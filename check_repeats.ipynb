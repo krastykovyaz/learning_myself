{
 "cells": [
  {
   "cell_type": "code",
   "execution_count": 367,
   "metadata": {},
   "outputs": [],
   "source": [
    "import pandas as pd"
   ]
  },
  {
   "cell_type": "code",
   "execution_count": 368,
   "metadata": {},
   "outputs": [],
   "source": [
    "df = pd.read_excel('/Users/OUT-Kovyazin-AA/Desktop/work_space/eco/got_26_11_2020/data_labels.xlsx')"
   ]
  },
  {
   "cell_type": "code",
   "execution_count": 369,
   "metadata": {},
   "outputs": [],
   "source": [
    "# df.drop(['Unnamed: 0', 'Unnamed: 0.1', 'eduid','s_prd', 's_subj', 'split', 'chnl', 'prd', 'Ecosystem', 'INVEST', 'PROCHEE', 'RECOGNIZE_ID', 'ROWNUM', 'SBERMOBILE', 'SPASIBO', 'STRAHOVANIE'], axis=1, inplace=True)\n"
   ]
  },
  {
   "cell_type": "code",
   "execution_count": 370,
   "metadata": {},
   "outputs": [
    {
     "data": {
      "text/plain": [
       "(230896, 24)"
      ]
     },
     "execution_count": 370,
     "metadata": {},
     "output_type": "execute_result"
    }
   ],
   "source": [
    "df.shape"
   ]
  },
  {
   "cell_type": "code",
   "execution_count": 371,
   "metadata": {},
   "outputs": [
    {
     "data": {
      "text/plain": [
       "230896"
      ]
     },
     "execution_count": 371,
     "metadata": {},
     "output_type": "execute_result"
    }
   ],
   "source": [
    "repeat = df[['session_id', 'node_id']]\n",
    "len(repeat)"
   ]
  },
  {
   "cell_type": "code",
   "execution_count": 377,
   "metadata": {},
   "outputs": [],
   "source": [
    "id = {}\n",
    "iclient = repeat['session_id'][0]\n",
    "i = 0\n",
    "node = []\n",
    "repeat_2 = []\n",
    "one_after_another = []\n",
    "for client in repeat['session_id']:\n",
    "    if iclient != client:\n",
    "        id[iclient] = node\n",
    "        if len(node) != len(set(node)):\n",
    "            repeat_2.append(iclient)\n",
    "        iclient = client\n",
    "    if i + 1 < len(repeat):\n",
    "        if repeat['node_id'][i] == repeat['node_id'][i + 1] and repeat['session_id'][i] == repeat['session_id'][i + 1]:\n",
    "            one_after_another.append(iclient)\n",
    "    node.append(repeat['node_id'][i])\n",
    "    i += 1    "
   ]
  },
  {
   "cell_type": "code",
   "execution_count": 378,
   "metadata": {},
   "outputs": [
    {
     "name": "stdout",
     "output_type": "stream",
     "text": [
      "4316\n",
      "72170\n"
     ]
    }
   ],
   "source": [
    "print(len(set(one_after_another)))\n",
    "print(len(set(repeat_2)))"
   ]
  },
  {
   "cell_type": "code",
   "execution_count": 379,
   "metadata": {},
   "outputs": [],
   "source": [
    "# compare = set()\n",
    "# for a in set(one_after_another):\n",
    "#     for r in set(repeat_2):\n",
    "#         if a != r:\n",
    "#             compare.add(r)\n",
    "            "
   ]
  },
  {
   "cell_type": "code",
   "execution_count": 380,
   "metadata": {},
   "outputs": [],
   "source": [
    "# print(compare)"
   ]
  },
  {
   "cell_type": "code",
   "execution_count": 381,
   "metadata": {},
   "outputs": [
    {
     "data": {
      "text/plain": [
       "(20662, 24)"
      ]
     },
     "execution_count": 381,
     "metadata": {},
     "output_type": "execute_result"
    }
   ],
   "source": [
    "# list_1 = df.isin({'session_id' : set(one_after_another)}).head(7)\n",
    "list_1 = df[df.session_id.isin(one_after_another)]\n",
    "# list_1\n",
    "# df['session_id'].nunique()\n",
    "list_1.shape\n"
   ]
  },
  {
   "cell_type": "code",
   "execution_count": 382,
   "metadata": {},
   "outputs": [
    {
     "data": {
      "text/plain": [
       "(230896, 24)"
      ]
     },
     "execution_count": 382,
     "metadata": {},
     "output_type": "execute_result"
    }
   ],
   "source": [
    "df.shape"
   ]
  },
  {
   "cell_type": "code",
   "execution_count": 383,
   "metadata": {},
   "outputs": [
    {
     "data": {
      "text/plain": [
       "set()"
      ]
     },
     "execution_count": 383,
     "metadata": {},
     "output_type": "execute_result"
    }
   ],
   "source": [
    "set(repeat_2) - set(df.session_id)"
   ]
  },
  {
   "cell_type": "code",
   "execution_count": 384,
   "metadata": {},
   "outputs": [
    {
     "data": {
      "text/plain": [
       "(230892, 24)"
      ]
     },
     "execution_count": 384,
     "metadata": {},
     "output_type": "execute_result"
    }
   ],
   "source": [
    "list_2 = df[df.session_id.isin(set(repeat_2))]\n",
    "# list_2.info()\n",
    "# list_2['session_id'].head(20)\n",
    "# df[df.session_id.isin(['pvli-avaya0113-2020319052353-1'])]\n",
    "# for i in repeat_2:\n",
    "#     flag = False\n",
    "#     if flag == True:\n",
    "#         print('F')\n",
    "#     for item in list_2['session_id']:\n",
    "#         if i == item:\n",
    "#             flag = True\n",
    "list_2.shape"
   ]
  },
  {
   "cell_type": "code",
   "execution_count": 385,
   "metadata": {},
   "outputs": [
    {
     "name": "stdout",
     "output_type": "stream",
     "text": [
      "16663995217\n"
     ]
    }
   ],
   "source": [
    "# len(id.values())\n",
    "count = 1\n",
    "for item in id.values():\n",
    "    for i in item:\n",
    "        count += 1\n",
    "print(count)\n"
   ]
  },
  {
   "cell_type": "code",
   "execution_count": 386,
   "metadata": {},
   "outputs": [],
   "source": [
    "with pd.ExcelWriter('/Users/OUT-Kovyazin-AA/Desktop/work_space/eco/got_26_11_2020/output.xlsx',\n",
    "                engine=\"openpyxl\") as writer:  \n",
    "    list_1.to_excel(writer, sheet_name='list_1')\n",
    "    list_2.to_excel(writer, sheet_name='repeat_2')\n",
    "\n",
    "    "
   ]
  },
  {
   "cell_type": "code",
   "execution_count": null,
   "metadata": {},
   "outputs": [],
   "source": []
  }
 ],
 "metadata": {
  "kernelspec": {
   "display_name": "Python (myenv)",
   "language": "python",
   "name": "myenv"
  },
  "language_info": {
   "codemirror_mode": {
    "name": "ipython",
    "version": 3
   },
   "file_extension": ".py",
   "mimetype": "text/x-python",
   "name": "python",
   "nbconvert_exporter": "python",
   "pygments_lexer": "ipython3",
   "version": "3.6.8"
  }
 },
 "nbformat": 4,
 "nbformat_minor": 4
}
