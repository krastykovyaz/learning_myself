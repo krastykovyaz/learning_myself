{
 "cells": [
  {
   "cell_type": "code",
   "execution_count": 188,
   "metadata": {},
   "outputs": [],
   "source": [
    "import pandas as pd\n",
    "import numpy as np\n",
    "from sklearn.cluster import MeanShift"
   ]
  },
  {
   "cell_type": "code",
   "execution_count": null,
   "metadata": {},
   "outputs": [],
   "source": [
    "##Размещение баннеров\n"
   ]
  },
  {
   "cell_type": "code",
   "execution_count": null,
   "metadata": {},
   "outputs": [],
   "source": [
    "Представим, что международное круизное агентство Carnival Cruise Line решило себя разрекламировать с помощью баннеров и обратилось для этого к вам. Чтобы протестировать, велика ли от таких баннеров польза, их будет размещено всего 20 штук по всему миру. Вам надо выбрать 20 таких локаций для размещения, чтобы польза была большой и агентство продолжило с вами сотрудничать.\n",
    "\n",
    "Агентство крупное, и у него есть несколько офисов по всему миру. Вблизи этих офисов оно и хочет разместить баннеры — легче договариваться и проверять результат. Также эти места должны быть популярны среди туристов.\n",
    "\n",
    "Для поиска оптимальных мест воспользуемся базой данных крупнейшей социальной сети, основанной на локациях — Foursquare.\n",
    "\n",
    "Часть открытых данных есть, например, на сайте archive.org:\n",
    "\n",
    "https://archive.org/details/201309_foursquare_dataset_umn\n",
    "\n",
    "Скачаем любым удобным образом архив fsq.zip с этой страницы.\n",
    "\n",
    "Нас будет интересовать файл checkins.dat. Открыв его, увидим следующую структуру:"
   ]
  },
  {
   "cell_type": "code",
   "execution_count": 214,
   "metadata": {},
   "outputs": [
    {
     "name": "stderr",
     "output_type": "stream",
     "text": [
      "/Users/OUT-Kovyazin-AA/.pyenv/versions/anaconda3-5.3.0/lib/python3.6/site-packages/IPython/core/interactiveshell.py:3072: DtypeWarning: Columns (0) have mixed types.Specify dtype option on import or set low_memory=False.\n",
      "  interactivity=interactivity, compiler=compiler, result=result)\n"
     ]
    }
   ],
   "source": [
    "df = pd.read_csv('checkins.dat', sep='|').drop(index=0)"
   ]
  },
  {
   "cell_type": "code",
   "execution_count": 215,
   "metadata": {},
   "outputs": [
    {
     "data": {
      "text/html": [
       "<div>\n",
       "<style scoped>\n",
       "    .dataframe tbody tr th:only-of-type {\n",
       "        vertical-align: middle;\n",
       "    }\n",
       "\n",
       "    .dataframe tbody tr th {\n",
       "        vertical-align: top;\n",
       "    }\n",
       "\n",
       "    .dataframe thead th {\n",
       "        text-align: right;\n",
       "    }\n",
       "</style>\n",
       "<table border=\"1\" class=\"dataframe\">\n",
       "  <thead>\n",
       "    <tr style=\"text-align: right;\">\n",
       "      <th></th>\n",
       "      <th>id</th>\n",
       "      <th>user_id</th>\n",
       "      <th>venue_id</th>\n",
       "      <th>latitude</th>\n",
       "      <th>longitude</th>\n",
       "      <th>created_at</th>\n",
       "    </tr>\n",
       "  </thead>\n",
       "  <tbody>\n",
       "    <tr>\n",
       "      <th>1</th>\n",
       "      <td>984301</td>\n",
       "      <td>2041916.0</td>\n",
       "      <td>5222.0</td>\n",
       "      <td></td>\n",
       "      <td></td>\n",
       "      <td>2012-04-21 17:39:01</td>\n",
       "    </tr>\n",
       "    <tr>\n",
       "      <th>2</th>\n",
       "      <td>984222</td>\n",
       "      <td>15824.0</td>\n",
       "      <td>5222.0</td>\n",
       "      <td>38.8951118</td>\n",
       "      <td>-77.0363658</td>\n",
       "      <td>2012-04-21 17:43:47</td>\n",
       "    </tr>\n",
       "    <tr>\n",
       "      <th>3</th>\n",
       "      <td>984315</td>\n",
       "      <td>1764391.0</td>\n",
       "      <td>5222.0</td>\n",
       "      <td></td>\n",
       "      <td></td>\n",
       "      <td>2012-04-21 17:37:18</td>\n",
       "    </tr>\n",
       "    <tr>\n",
       "      <th>4</th>\n",
       "      <td>984234</td>\n",
       "      <td>44652.0</td>\n",
       "      <td>5222.0</td>\n",
       "      <td>33.800745</td>\n",
       "      <td>-84.41052</td>\n",
       "      <td>2012-04-21 17:43:43</td>\n",
       "    </tr>\n",
       "    <tr>\n",
       "      <th>5</th>\n",
       "      <td>984249</td>\n",
       "      <td>2146840.0</td>\n",
       "      <td>5222.0</td>\n",
       "      <td></td>\n",
       "      <td></td>\n",
       "      <td>2012-04-21 17:42:58</td>\n",
       "    </tr>\n",
       "    <tr>\n",
       "      <th>6</th>\n",
       "      <td>984268</td>\n",
       "      <td>2146843.0</td>\n",
       "      <td>5222.0</td>\n",
       "      <td></td>\n",
       "      <td></td>\n",
       "      <td>2012-04-21 17:42:38</td>\n",
       "    </tr>\n",
       "    <tr>\n",
       "      <th>7</th>\n",
       "      <td>984281</td>\n",
       "      <td>2146846.0</td>\n",
       "      <td>5222.0</td>\n",
       "      <td></td>\n",
       "      <td></td>\n",
       "      <td>2012-04-21 17:39:40</td>\n",
       "    </tr>\n",
       "    <tr>\n",
       "      <th>8</th>\n",
       "      <td>984291</td>\n",
       "      <td>105054.0</td>\n",
       "      <td>5222.0</td>\n",
       "      <td>45.5234515</td>\n",
       "      <td>-122.6762071</td>\n",
       "      <td>2012-04-21 17:39:22</td>\n",
       "    </tr>\n",
       "    <tr>\n",
       "      <th>9</th>\n",
       "      <td>6651</td>\n",
       "      <td>1338710.0</td>\n",
       "      <td>219703.0</td>\n",
       "      <td></td>\n",
       "      <td></td>\n",
       "      <td>2011-12-08 23:11:23</td>\n",
       "    </tr>\n",
       "    <tr>\n",
       "      <th>10</th>\n",
       "      <td>984318</td>\n",
       "      <td>2146539.0</td>\n",
       "      <td>5222.0</td>\n",
       "      <td>40.764462</td>\n",
       "      <td>-111.904565</td>\n",
       "      <td>2012-04-21 17:35:46</td>\n",
       "    </tr>\n",
       "  </tbody>\n",
       "</table>\n",
       "</div>"
      ],
      "text/plain": [
       "       id       user_id    venue_id        latitude        \\\n",
       "1     984301   2041916.0      5222.0                        \n",
       "2     984222     15824.0      5222.0          38.8951118    \n",
       "3     984315   1764391.0      5222.0                        \n",
       "4     984234     44652.0      5222.0           33.800745    \n",
       "5     984249   2146840.0      5222.0                        \n",
       "6     984268   2146843.0      5222.0                        \n",
       "7     984281   2146846.0      5222.0                        \n",
       "8     984291    105054.0      5222.0          45.5234515    \n",
       "9       6651   1338710.0    219703.0                        \n",
       "10    984318   2146539.0      5222.0           40.764462    \n",
       "\n",
       "         longitude           created_at        \n",
       "1                         2012-04-21 17:39:01  \n",
       "2          -77.0363658    2012-04-21 17:43:47  \n",
       "3                         2012-04-21 17:37:18  \n",
       "4            -84.41052    2012-04-21 17:43:43  \n",
       "5                         2012-04-21 17:42:58  \n",
       "6                         2012-04-21 17:42:38  \n",
       "7                         2012-04-21 17:39:40  \n",
       "8         -122.6762071    2012-04-21 17:39:22  \n",
       "9                         2011-12-08 23:11:23  \n",
       "10         -111.904565    2012-04-21 17:35:46  "
      ]
     },
     "execution_count": 215,
     "metadata": {},
     "output_type": "execute_result"
    }
   ],
   "source": [
    "df.head(10)"
   ]
  },
  {
   "cell_type": "code",
   "execution_count": 216,
   "metadata": {},
   "outputs": [
    {
     "data": {
      "text/plain": [
       "Index(['id', 'user_id', 'venue_id', 'latitude', 'longitude', 'created_at'], dtype='object')"
      ]
     },
     "execution_count": 216,
     "metadata": {},
     "output_type": "execute_result"
    }
   ],
   "source": [
    "df.columns = [col.strip() for col in df.columns]\n",
    "df.columns"
   ]
  },
  {
   "cell_type": "code",
   "execution_count": null,
   "metadata": {},
   "outputs": [],
   "source": [
    "С помощью pandas построим DataFrame и убедимся, что все 396634 строки с координатами считаны успешно.\n",
    "\n",
    "Теперь необходимо кластеризовать данные координаты, чтобы выявить центры скоплений туристов. Поскольку баннеры имеют сравнительно небольшую площадь действия, нам нужен алгоритм, позволяющий ограничить размер кластера и не зависящий от количества кластеров.\n",
    "\n",
    "Эта задача — хороший повод познакомиться с алгоритмом MeanShift, который мы обошли стороной в основной части лекций. Его описание при желании можно посмотреть в sklearn user guide, а чуть позже появится дополнительное видео с обзором этого и некоторых других алгоритмов кластеризации. Используйте MeanShift, указав bandwidth=0.1, что в переводе из градусов в метры колеблется примерно от 5 до 10 км в средних широтах.\n",
    "\n",
    "Примечание:на 396634 строках кластеризация будет работать долго. Быть очень терпеливым не возбраняется — результат от этого только улучшится. Но для того, чтобы сдать задание, понадобится сабсет из первых 100 тысяч строк. Это компромисс между качеством и затраченным временем. Обучение алгоритма на всём датасете занимает около часа, а на 100 тыс. строк — примерно 2 минуты, однако этого достаточно для получения корректных результатов.\n",
    "\n",
    "Некоторые из получившихся кластеров содержат слишком мало точек — такие кластеры не интересны рекламодателям. Поэтому надо определить, какие из кластеров содержат, скажем, больше 15 элементов. Центры этих кластеров и являются оптимальными для размещения.\n",
    "\n",
    "При желании увидеть получившиеся результаты на карте можно передать центры получившихся кластеров в один из инструментов визуализации. Например, сайт mapcustomizer.com имеет функцию Bulk Entry"
   ]
  },
  {
   "cell_type": "code",
   "execution_count": 228,
   "metadata": {},
   "outputs": [],
   "source": [
    "df = df[['latitude', 'longitude']]\n",
    "df = df.applymap(lambda x: x.strip() if isinstance(x, str) else x)\n",
    "nan_value = float(\"NaN\")\n",
    "df.replace(\"\", nan_value, inplace=True)\n",
    "\n",
    "df = df.dropna()"
   ]
  },
  {
   "cell_type": "code",
   "execution_count": 229,
   "metadata": {},
   "outputs": [
    {
     "data": {
      "text/html": [
       "<div>\n",
       "<style scoped>\n",
       "    .dataframe tbody tr th:only-of-type {\n",
       "        vertical-align: middle;\n",
       "    }\n",
       "\n",
       "    .dataframe tbody tr th {\n",
       "        vertical-align: top;\n",
       "    }\n",
       "\n",
       "    .dataframe thead th {\n",
       "        text-align: right;\n",
       "    }\n",
       "</style>\n",
       "<table border=\"1\" class=\"dataframe\">\n",
       "  <thead>\n",
       "    <tr style=\"text-align: right;\">\n",
       "      <th></th>\n",
       "      <th>latitude</th>\n",
       "      <th>longitude</th>\n",
       "    </tr>\n",
       "  </thead>\n",
       "  <tbody>\n",
       "    <tr>\n",
       "      <th>976284</th>\n",
       "      <td>33.422268</td>\n",
       "      <td>-111.822640</td>\n",
       "    </tr>\n",
       "    <tr>\n",
       "      <th>997878</th>\n",
       "      <td>38.895112</td>\n",
       "      <td>-77.036366</td>\n",
       "    </tr>\n",
       "    <tr>\n",
       "      <th>902050</th>\n",
       "      <td>33.494170</td>\n",
       "      <td>-111.926052</td>\n",
       "    </tr>\n",
       "    <tr>\n",
       "      <th>561218</th>\n",
       "      <td>34.159172</td>\n",
       "      <td>-118.501195</td>\n",
       "    </tr>\n",
       "    <tr>\n",
       "      <th>543418</th>\n",
       "      <td>33.494170</td>\n",
       "      <td>-111.926052</td>\n",
       "    </tr>\n",
       "  </tbody>\n",
       "</table>\n",
       "</div>"
      ],
      "text/plain": [
       "         latitude   longitude\n",
       "976284  33.422268 -111.822640\n",
       "997878  38.895112  -77.036366\n",
       "902050  33.494170 -111.926052\n",
       "561218  34.159172 -118.501195\n",
       "543418  33.494170 -111.926052"
      ]
     },
     "execution_count": 229,
     "metadata": {},
     "output_type": "execute_result"
    }
   ],
   "source": [
    "df = df.applymap(float)\n",
    "df = df.round(decimals=6)\n",
    "data_sample = df.sample(100000)\n",
    "data_sample.head()"
   ]
  },
  {
   "cell_type": "code",
   "execution_count": 230,
   "metadata": {},
   "outputs": [
    {
     "data": {
      "text/plain": [
       "latitude     True\n",
       "longitude    True\n",
       "dtype: bool"
      ]
     },
     "execution_count": 230,
     "metadata": {},
     "output_type": "execute_result"
    }
   ],
   "source": [
    "np.isfinite(df.all())"
   ]
  },
  {
   "cell_type": "code",
   "execution_count": 324,
   "metadata": {},
   "outputs": [
    {
     "name": "stdout",
     "output_type": "stream",
     "text": [
      "CPU times: user 2min 16s, sys: 1.54 s, total: 2min 17s\n",
      "Wall time: 2min 18s\n"
     ]
    },
    {
     "data": {
      "text/plain": [
       "MeanShift(bandwidth=0.1)"
      ]
     },
     "execution_count": 324,
     "metadata": {},
     "output_type": "execute_result"
    }
   ],
   "source": [
    "%%time\n",
    "cluster = MeanShift(bandwidth = 0.1)\n",
    "cluster.fit(data_sample)"
   ]
  },
  {
   "cell_type": "code",
   "execution_count": 368,
   "metadata": {},
   "outputs": [],
   "source": [
    "labels = cluster.labels_\n",
    "cluster_centers = cluster.cluster_centers_"
   ]
  },
  {
   "cell_type": "code",
   "execution_count": 369,
   "metadata": {},
   "outputs": [],
   "source": [
    "# data_sample['cluster'] = cluster.predict(data_sample)\n"
   ]
  },
  {
   "cell_type": "code",
   "execution_count": 370,
   "metadata": {},
   "outputs": [],
   "source": [
    "# cluster_size = pd.DataFrame(data_sample.pivot_table(index = 'cluster', aggfunc = 'count', values = 'latitude'))\n",
    "# cluster_size.columns = ['clust_size']\n",
    "# cluster_size.head()"
   ]
  },
  {
   "cell_type": "code",
   "execution_count": 371,
   "metadata": {},
   "outputs": [],
   "source": [
    "# cluster_centers_df = pd.DataFrame(cluster.cluster_centers_)\n",
    "# cluster_centers_df.columns = ['cent_latitude', 'cent_longitude']"
   ]
  },
  {
   "cell_type": "code",
   "execution_count": 388,
   "metadata": {},
   "outputs": [
    {
     "data": {
      "text/plain": [
       "605"
      ]
     },
     "execution_count": 388,
     "metadata": {},
     "output_type": "execute_result"
    }
   ],
   "source": [
    "# labels = np.unique(labels)\n",
    "clean_center = []\n",
    "for l in np.unique(labels):\n",
    "    if list(labels).count(l) > 15:\n",
    "        clean_center.append(cluster_centers[l])\n",
    "len(clean_center)\n",
    "# # labels[:10]"
   ]
  },
  {
   "cell_type": "code",
   "execution_count": 392,
   "metadata": {},
   "outputs": [
    {
     "data": {
      "text/plain": [
       "[[40.71734725056607, -73.9894437878442],\n",
       " [41.87816290818484, -87.62982539206956],\n",
       " [33.44842949516833, -112.07407896530222]]"
      ]
     },
     "execution_count": 392,
     "metadata": {},
     "output_type": "execute_result"
    }
   ],
   "source": [
    "filter_c = []\n",
    "for arr in clean_center:\n",
    "    filter_c.append([arr[0], arr[1]])\n",
    "filter_c[:3]"
   ]
  },
  {
   "cell_type": "code",
   "execution_count": null,
   "metadata": {},
   "outputs": [],
   "source": [
    "Как мы помним, 20 баннеров надо разместить близ офисов компании. Найдем на Google Maps по запросу Carnival Cruise Line адреса всех офисов:\n",
    "\n",
    "33.751277, -118.188740 (Los Angeles)\n",
    "25.867736, -80.324116 (Miami)\n",
    "51.503016, -0.075479 (London)\n",
    "52.378894, 4.885084 (Amsterdam)\n",
    "39.366487, 117.036146 (Beijing)\n",
    "-33.868457, 151.205134 (Sydney)\n",
    "Осталось определить 20 ближайших к ним центров кластеров. Т.е. посчитать дистанцию до ближайшего офиса для каждой точки и выбрать 20 с наименьшим значением.\n",
    "\n",
    "Примечание: при подсчете расстояний и в кластеризации можно пренебречь тем, что Земля круглая, так как в точках, расположенных близко друг к другу погрешность мала, а в остальных точках значение достаточно велико.\n",
    "\n",
    "Для сдачи задания выберите из получившихся 20 центров тот, который наименее удален от ближайшего к нему офиса. Ответ в этом задании — широта и долгота этого центра, записанные через пробел."
   ]
  },
  {
   "cell_type": "code",
   "execution_count": 375,
   "metadata": {},
   "outputs": [],
   "source": [
    "def distance(l1, l2):\n",
    "    return (l1[0] - l2[0])**2 + (l1[1] - l2[1])**2"
   ]
  },
  {
   "cell_type": "code",
   "execution_count": 394,
   "metadata": {},
   "outputs": [
    {
     "name": "stdout",
     "output_type": "stream",
     "text": [
      "(2.6315938360748748e-06, [-33.86776034920633, 151.20659901587285])\n"
     ]
    }
   ],
   "source": [
    "offices = [[33.751277, -118.188740], [25.867736, -80.324116], [51.503016, -0.075479], [52.378894, 4.885084], \n",
    "           [39.366487, 117.036146], [-33.868457, 151.205134]]\n",
    "min_dists = []\n",
    "for of in offices:\n",
    "    dist = [(distance(of, x), x) for x in filter_c]\n",
    "#     print(dist[:3])\n",
    "    min_dists.append(min(dist))\n",
    "    \n",
    "print(min(min_dists))"
   ]
  },
  {
   "cell_type": "code",
   "execution_count": null,
   "metadata": {},
   "outputs": [],
   "source": []
  }
 ],
 "metadata": {
  "kernelspec": {
   "display_name": "Python 3",
   "language": "python",
   "name": "python3"
  },
  "language_info": {
   "codemirror_mode": {
    "name": "ipython",
    "version": 3
   },
   "file_extension": ".py",
   "mimetype": "text/x-python",
   "name": "python",
   "nbconvert_exporter": "python",
   "pygments_lexer": "ipython3",
   "version": "3.6.12"
  }
 },
 "nbformat": 4,
 "nbformat_minor": 4
}
